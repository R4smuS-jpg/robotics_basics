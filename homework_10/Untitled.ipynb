{
 "cells": [
  {
   "cell_type": "code",
   "execution_count": 2,
   "id": "9a8f4511",
   "metadata": {},
   "outputs": [
    {
     "name": "stderr",
     "output_type": "stream",
     "text": [
      "Warning: Ignoring XDG_SESSION_TYPE=wayland on Gnome. Use QT_QPA_PLATFORM=wayland to run on Wayland anyway.\n"
     ]
    },
    {
     "ename": "NameError",
     "evalue": "name 'sigma_color' is not defined",
     "output_type": "error",
     "traceback": [
      "\u001b[0;31m---------------------------------------------------------------------------\u001b[0m",
      "\u001b[0;31mNameError\u001b[0m                                 Traceback (most recent call last)",
      "Cell \u001b[0;32mIn [2], line 23\u001b[0m\n\u001b[1;32m     17\u001b[0m noised \u001b[38;5;241m=\u001b[39m noise(img, \u001b[38;5;241m0.5\u001b[39m)\n\u001b[1;32m     18\u001b[0m cv2\u001b[38;5;241m.\u001b[39mimshow(\u001b[38;5;124m'\u001b[39m\u001b[38;5;124mOriginal | Noised\u001b[39m\u001b[38;5;124m'\u001b[39m, np\u001b[38;5;241m.\u001b[39mhstack((img, noised)))\n\u001b[1;32m     19\u001b[0m cv2\u001b[38;5;241m.\u001b[39mimshow(\u001b[38;5;124m'\u001b[39m\u001b[38;5;124mMedian | Gaussian | Bilateral\u001b[39m\u001b[38;5;124m'\u001b[39m,\n\u001b[1;32m     20\u001b[0m     np\u001b[38;5;241m.\u001b[39mconcatenate((\n\u001b[1;32m     21\u001b[0m         cv2\u001b[38;5;241m.\u001b[39mmedianBlur(noised, \u001b[38;5;241m5\u001b[39m),\n\u001b[1;32m     22\u001b[0m         cv2\u001b[38;5;241m.\u001b[39mGaussianBlur(noised, (\u001b[38;5;241m5\u001b[39m, \u001b[38;5;241m5\u001b[39m), sigmaX\u001b[38;5;241m=\u001b[39m\u001b[38;5;241m0\u001b[39m, sigmaY\u001b[38;5;241m=\u001b[39m\u001b[38;5;241m0\u001b[39m),\n\u001b[0;32m---> 23\u001b[0m         cv2\u001b[38;5;241m.\u001b[39mbilateralFilter(noised, \u001b[38;5;241m5\u001b[39m, sigma_color, sigma_space)\n\u001b[1;32m     24\u001b[0m     ), axis\u001b[38;5;241m=\u001b[39m\u001b[38;5;241m1\u001b[39m))\n",
      "\u001b[0;31mNameError\u001b[0m: name 'sigma_color' is not defined"
     ]
    }
   ],
   "source": [
    "import cv2\n",
    "import numpy as np\n",
    "from random import random\n",
    "\n",
    "def noise(img, prob):\n",
    "    output = np.zeros(img.shape, np.uint8)\n",
    "    h, w = img.shape[:2]\n",
    "    for i in range(h):\n",
    "        for j in range(w):\n",
    "            rnd = random()\n",
    "            prob = prob / 2.0\n",
    "            inverse_prob = 1 - prob\n",
    "            output[i, j] = 255 if rnd < prob else 0 if rnd > inverse_prob else img[i, j]\n",
    "    return output\n",
    "\n",
    "img = cv2.imread('matrix.png')\n",
    "noised = noise(img, 0.5)\n",
    "s = cv2.imshow('Original | Noised', np.hstack((img, noised)))\n",
    "b = cv2.imshow('Median | Gaussian | Bilateral',\n",
    "    np.concatenate((\n",
    "        cv2.medianBlur(noised, 5),\n",
    "        cv2.GaussianBlur(noised, (5, 5), sigmaX=0, sigmaY=0),\n",
    "        cv2.bilateralFilter(noised, 5, sigma_color, sigma_space)\n",
    "    ), axis=1))\n",
    "\n"
   ]
  },
  {
   "cell_type": "code",
   "execution_count": null,
   "id": "28a8183e",
   "metadata": {},
   "outputs": [],
   "source": []
  }
 ],
 "metadata": {
  "kernelspec": {
   "display_name": "Python 3 (ipykernel)",
   "language": "python",
   "name": "python3"
  },
  "language_info": {
   "codemirror_mode": {
    "name": "ipython",
    "version": 3
   },
   "file_extension": ".py",
   "mimetype": "text/x-python",
   "name": "python",
   "nbconvert_exporter": "python",
   "pygments_lexer": "ipython3",
   "version": "3.8.10"
  }
 },
 "nbformat": 4,
 "nbformat_minor": 5
}
