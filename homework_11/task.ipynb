{
 "cells": [
  {
   "cell_type": "code",
   "execution_count": null,
   "id": "4a89e88c",
   "metadata": {},
   "outputs": [],
   "source": [
    "import cv2\n",
    "import numpy as np\n",
    "from random import random\n",
    "import matplotlib.pyplot as plt\n",
    "\n",
    "\n",
    "def add_noise(img, probability):\n",
    "    output = np.zeros(img.shape, np.uint8)\n",
    "    h, w = img.shape[:2]\n",
    "    for i in range(h):\n",
    "        for j in range(w):\n",
    "            rnd = random()\n",
    "            prob = probability / 2.0\n",
    "            inverse_prob = 1 - prob\n",
    "            output[i, j] = 255 if rnd < prob else 0 if rnd > inverse_prob else img[i, j]\n",
    "    return output\n",
    "\n",
    "noise = 5\n",
    "img = cv2.imread('image.jpg')\n",
    "\n",
    "def on_slide(value):\n",
    "    global noise\n",
    "    print(value)\n",
    "    noise = value\n",
    "    salted = add_noise(img, float(noise) / 100.0)\n",
    "    cv2.imshow(window_name, salted)\n",
    "    plt.imshow(mag_spectrum(cv2.imread('home.jpg', 0)), cmap='gray')\n",
    "    plt.show()\n",
    "    cv2.waitKey(1)\n",
    "\n",
    "\n",
    "while True:\n",
    "    salted = add_noise(img, float(noise) / 100.0)\n",
    "    cv2.imshow(window_name, salted)\n",
    "    cv2.createTrackbar('Noise gain', noise, 100, on_slide)\n",
    "    k = cv2.waitKey(0)\n",
    "    if k == 27:\n",
    "        break\n",
    "        \n",
    "cv2.waitKey(0)\n",
    "cv2.destroyAllWindows()\n"
   ]
  },
  {
   "cell_type": "code",
   "execution_count": null,
   "id": "6d6b44b1",
   "metadata": {},
   "outputs": [],
   "source": []
  }
 ],
 "metadata": {
  "kernelspec": {
   "display_name": "Python 3 (ipykernel)",
   "language": "python",
   "name": "python3"
  },
  "language_info": {
   "codemirror_mode": {
    "name": "ipython",
    "version": 3
   },
   "file_extension": ".py",
   "mimetype": "text/x-python",
   "name": "python",
   "nbconvert_exporter": "python",
   "pygments_lexer": "ipython3",
   "version": "3.8.10"
  }
 },
 "nbformat": 4,
 "nbformat_minor": 5
}
